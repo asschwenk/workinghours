{
 "cells": [
  {
   "cell_type": "markdown",
   "metadata": {
    "slideshow": {
     "slide_type": "slide"
    }
   },
   "source": [
    "# A Very Quick Introduction to Git/Github for Julia Users\n",
    "\n",
    "Julia's package system and Github are very closely intertwined:\n",
    "\n",
    "- Julia's package management system (METADATA) is a Github repository\n",
    "- The packages are hosted as Github repositories\n",
    "- Julia packages are normally referred to with the ending “.jl”\n",
    "- Repositories register to become part of the central package management by sending a pull request to METADATA.jl\n",
    "- The packages can be found / investigated at Github.com\n",
    "- Julia's error messages are hyperlinks to the page in Github\n",
    "\n",
    "Because of this, it's very useful for everyone using Julia to know a little bit about Git/Github."
   ]
  },
