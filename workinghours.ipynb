## Application for recording working hours
* Define DATA_DIR
•Make sure 'output.xls' is not open while executing this code
•Make sure to click enter after inserting the row to be evaluated
•Format of time in excel file: 15min=0,25, 30min=0,5, 45min=0,75
•Record every working day (if holiday then 'H' in the start time column)
•In output.xls you may have to set first column to 'date'


# Import libraries
import os
import datetime
import xlrd
import xlwt
from xlrd import open_workbook
from xlutils.copy import copy
import matplotlib.pyplot as plt; plt.rcdefaults()
import matplotlib.pyplot as plt
import numpy as np
import datetime
#from pylab import *
#import sys
#from numpy import *    ### these three lines don't go with line: output_book = xlrd.open_workbook(OUTPUT_FILE)

#Define input and output
DATA_DIR = 'C:/Users/aschwenk/Tasks/Arbeitszeiten/real/'
WORKINGHOURS_FILE = os.path.join(DATA_DIR, 'workinghours.xls')
OUTPUT_FILE = os.path.join(DATA_DIR, 'output.xls')
selected_row_shift = int(input("Please type in the row you want to evaluate: ")) 
selected_row = selected_row_shift-1  
