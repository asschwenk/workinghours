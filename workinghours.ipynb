{
 "cells": [
  {
   "cell_type": "markdown",
   "metadata": {
    "slideshow": {
     "slide_type": "slide"
    }
   },
   "source": [
    "# Application for recording working hours\n",
    "\n",
    "* Define DATA_DIR\n",
    "* Make sure 'output.xls' is not open while executing this code\n",
    "* Make sure to click enter after inserting the row to be evaluated\n",
    "* Format of time in excel file: 15min=0,25, 30min=0,5, 45min=0,75\n",
    "* Record every working day (if holiday then 'H' in the start time column)\n",
    "* In output.xls you may have to set first column to 'date'\n",
    "\n",
   ]
  },
